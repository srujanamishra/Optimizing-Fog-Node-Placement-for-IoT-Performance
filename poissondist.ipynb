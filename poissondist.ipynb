{
 "cells": [
  {
   "cell_type": "code",
   "execution_count": 1,
   "id": "b0d9cafa-d7f5-48d0-b623-7e2d1f36cde3",
   "metadata": {},
   "outputs": [
    {
     "name": "stdout",
     "output_type": "stream",
     "text": [
      "Estimated number of IoT devices required for 1 km²: 94\n"
     ]
    }
   ],
   "source": [
    "import numpy as np\n",
    "\n",
    "# Define lambda (expected number of IoT devices per km²)\n",
    "lambda_iot = 100  # Adjust based on application type\n",
    "\n",
    "# Generate a random sample from Poisson distribution\n",
    "num_iot_devices = np.random.poisson(lambda_iot)\n",
    "\n",
    "print(f\"Estimated number of IoT devices required for 1 km²: {num_iot_devices}\")\n"
   ]
  },
  {
   "cell_type": "code",
   "execution_count": 3,
   "id": "8351c346-db65-4713-80c0-fcc83f2fd7d9",
   "metadata": {},
   "outputs": [
    {
     "name": "stdout",
     "output_type": "stream",
     "text": [
      "Mean number of IoT devices: 99.57\n",
      "Standard deviation: 10.46\n",
      "Minimum devices: 67, Maximum devices: 132\n"
     ]
    }
   ],
   "source": [
    "import numpy as np\n",
    "\n",
    "# Set fixed seed for reproducibility\n",
    "np.random.seed(42)\n",
    "\n",
    "# Given Poisson distribution parameter (lambda) for smart agriculture\n",
    "lambda_iot = 100  # Expected IoT devices per 1 km²\n",
    "\n",
    "# Simulating for 1 km² area\n",
    "num_samples = 1000 # Number of simulations\n",
    "iot_devices = np.random.poisson(lambda_iot, num_samples)\n",
    "\n",
    "# Print summary\n",
    "print(f\"Mean number of IoT devices: {np.mean(iot_devices):.2f}\")\n",
    "print(f\"Standard deviation: {np.std(iot_devices):.2f}\")\n",
    "print(f\"Minimum devices: {np.min(iot_devices)}, Maximum devices: {np.max(iot_devices)}\")\n"
   ]
  },
  {
   "cell_type": "code",
   "execution_count": null,
   "id": "13f58ea9-1f3f-41a4-93d6-89bbbf5afaa9",
   "metadata": {},
   "outputs": [],
   "source": []
  }
 ],
 "metadata": {
  "kernelspec": {
   "display_name": "Python [conda env:base] *",
   "language": "python",
   "name": "conda-base-py"
  },
  "language_info": {
   "codemirror_mode": {
    "name": "ipython",
    "version": 3
   },
   "file_extension": ".py",
   "mimetype": "text/x-python",
   "name": "python",
   "nbconvert_exporter": "python",
   "pygments_lexer": "ipython3",
   "version": "3.12.7"
  }
 },
 "nbformat": 4,
 "nbformat_minor": 5
}
